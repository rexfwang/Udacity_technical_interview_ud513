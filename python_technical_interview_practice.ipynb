{
 "cells": [
  {
   "cell_type": "markdown",
   "metadata": {},
   "source": [
    "# Question 1\n",
    "\n",
    "Given two strings s and t, determine whether some anagram of t is a substring of s. For example: if s = \"udacity\" and t = \"ad\", then the function returns True. Your function definition should look like: question1(s, t) and return a boolean True or False."
   ]
  },
  {
   "cell_type": "markdown",
   "metadata": {},
   "source": [
    "### Solution 1\n",
    "In this solution, I build a dictionary based on input string t, where keys are characters from string t, and values are the count of each character. Because the character order doesn't matter for string t, we build the dictionary for quick look up. We then loop through every same length substrings in string s, and build counter dictionary for each substring and compare this substring dictionary with the previously built target dictionary. If we find a matching dictionary, we have found a substring that's an anagram of t. The time complexity is O(m*n) given m is the length of s, and n is the length of t."
   ]
  },
  {
   "cell_type": "code",
   "execution_count": 243,
   "metadata": {
    "collapsed": true
   },
   "outputs": [],
   "source": [
    "from collections import Counter\n",
    "def question1(s, t):\n",
    "    t_len = len(t)\n",
    "    s_len = len(s)\n",
    "    \n",
    "    if t_len > s_len:\n",
    "        return False\n",
    "    \n",
    "    # O(n) operation to put everything in to counter dict\n",
    "    t_counter = Counter(t)\n",
    "    \n",
    "    len_diff = s_len-t_len+1\n",
    "    \n",
    "    # O(m*n) operation\n",
    "    for i in range(len_diff):\n",
    "        sub_string = s[i:i+t_len]\n",
    "        s_counter = Counter(sub_string)\n",
    "\n",
    "        # Verify two counters have same number of entries\n",
    "        if len(s_counter) != len(t_counter):\n",
    "            continue\n",
    "        \n",
    "        matched_counters = True\n",
    "        for c in s_counter:\n",
    "            if (c not in t_counter) or (s_counter[c]!=t_counter[c]):\n",
    "                matched_counters = False\n",
    "                break\n",
    "        \n",
    "        if matched_counters:\n",
    "            return True\n",
    "        \n",
    "    return False\n",
    "            "
   ]
  },
  {
   "cell_type": "code",
   "execution_count": 248,
   "metadata": {},
   "outputs": [
    {
     "name": "stdout",
     "output_type": "stream",
     "text": [
      "True\n",
      "True\n",
      "False\n",
      "True\n",
      "True\n"
     ]
    }
   ],
   "source": [
    "print(question1('abzqabeea','aeaeb'))\n",
    "print(question1('acdeabb','dca'))\n",
    "print(question1('acdeabb','xx'))\n",
    "print(question1('acdeabb','abde'))\n",
    "print(question1('ebad','abde'))"
   ]
  },
  {
   "cell_type": "markdown",
   "metadata": {},
   "source": [
    "### Solution 2\n",
    "In the previos solution, we have to build a dictionary and do a dictionary comparison for every substring. In this solution, instead of converting every substring into another counter dictionary, we build a difference dictionary to track the difference between current substring and the target dictionary. When moving from one substring to another substring, we can simply update the difference dictionary. Wehn the dictionary becomes empty, we have a match. This solution removes the dictionary comparison to achieve O(m) time complexity."
   ]
  },
  {
   "cell_type": "code",
   "execution_count": 251,
   "metadata": {
    "collapsed": true
   },
   "outputs": [],
   "source": [
    "from collections import Counter\n",
    "def question1(s, t):\n",
    "    t_len = len(t)\n",
    "    s_len = len(s)\n",
    "    \n",
    "    if t_len > s_len:\n",
    "        return False\n",
    "    \n",
    "    # O(n) operation to put everything in to counter dict\n",
    "    t_counter = Counter(t)\n",
    "\n",
    "    # Build diff counter for the very first substring\n",
    "    first_sub_string = s[:t_len]\n",
    "    s_counter = Counter(first_sub_string)\n",
    "    diff_counter = Counter()\n",
    "    \n",
    "    # Diff_counter = substring_s_counter - t_counter\n",
    "    # positive count means current substring has extra character\n",
    "    # negative count means current substring is missing character \n",
    "    for key in s_counter:\n",
    "        if (key in s_counter) and (key not in t_counter):\n",
    "            diff_counter[key] = s_counter[key]\n",
    "        else:\n",
    "            diff_counter[key] = s_counter[key] - t_counter[key]\n",
    "    for key in t_counter:\n",
    "        if (key in t_counter) and (key not in s_counter):\n",
    "            diff_counter[key] = -1*t_counter[key]\n",
    "            \n",
    "    # Check if this first substring is already a match\n",
    "    keys = list(diff_counter.keys())\n",
    "    for key in keys:\n",
    "        if diff_counter[key] == 0:\n",
    "            # Remove all zero count character\n",
    "            diff_counter.pop(key)\n",
    "    if len(diff_counter)==0:\n",
    "        return True\n",
    "    \n",
    "    # Loop through s, update and check diff_counter\n",
    "    for i in range(1, s_len-t_len+1):\n",
    "        removed_c = s[i-1]\n",
    "        added_c = s[i+t_len-1]\n",
    "        \n",
    "        diff_counter[removed_c] -= 1\n",
    "        if diff_counter[removed_c] == 0:\n",
    "            diff_counter.pop(removed_c)\n",
    "        \n",
    "        diff_counter[added_c] += 1\n",
    "        if diff_counter[added_c] == 0:\n",
    "            diff_counter.pop(added_c)\n",
    "        \n",
    "        if len(diff_counter) == 0:\n",
    "            return True\n",
    "        \n",
    "    return False\n",
    "            "
   ]
  },
  {
   "cell_type": "code",
   "execution_count": 252,
   "metadata": {},
   "outputs": [
    {
     "name": "stdout",
     "output_type": "stream",
     "text": [
      "True\n",
      "True\n",
      "False\n",
      "True\n",
      "True\n"
     ]
    }
   ],
   "source": [
    "print(question1('abzqabeea','aeaeb'))\n",
    "print(question1('acdeabb','dca'))\n",
    "print(question1('acdeabb','xx'))\n",
    "print(question1('acdeabb','abde'))\n",
    "print(question1('ebad','abde'))"
   ]
  },
  {
   "cell_type": "markdown",
   "metadata": {},
   "source": [
    "# Question 2\n",
    "\n",
    "Given a string a, find the longest palindromic substring contained in a. Your function definition should look like question2(a), and return a string."
   ]
  },
  {
   "cell_type": "markdown",
   "metadata": {},
   "source": [
    "### Solution 1\n",
    "Define a recursoin function findPalindrom(str), which takes in a string and returns the longest palindromic substring within it. If the left end of the string is the same character of the right end of the string, and the substring between it is a palindromic string, the whole string is a palindromic string. Otherwise, we call the same findPalindrom function for these three substrings: a) remove left end of current string b) remove right end of current string c) remove both end of current string. And see which one returns the longest palindromic string and return the palindromic string."
   ]
  },
  {
   "cell_type": "code",
   "execution_count": 267,
   "metadata": {
    "collapsed": true
   },
   "outputs": [],
   "source": [
    "def findPalindrom(str):\n",
    "    if len(str) == 1:\n",
    "        return str\n",
    "    elif len(str) == 2:\n",
    "        if str[0] == str[1]:\n",
    "            return str\n",
    "        else:\n",
    "            return ''\n",
    "    elif len(str) == 3:\n",
    "        if str[0] == str[2]:\n",
    "            return str\n",
    "        elif str[0] == str[1]:\n",
    "            return str[:2]\n",
    "        elif str[1] == str[2]:\n",
    "            return str[1:]\n",
    "        else:\n",
    "            return ''\n",
    "    else:\n",
    "        if (str[0] == str[-1]):\n",
    "            subStr3 = findPalindrom(str[1:-1])\n",
    "            if (len(subStr3) == len(str)-2):\n",
    "                return str\n",
    "        subStr1 = findPalindrom(str[:-1])\n",
    "        subStr2 = findPalindrom(str[1:])\n",
    "        if len(subStr1) >= len(subStr2):\n",
    "            return subStr1\n",
    "        else:\n",
    "            return subStr2\n",
    "\n",
    "def question2(a):\n",
    "    return findPalindrom(a)"
   ]
  },
  {
   "cell_type": "code",
   "execution_count": 326,
   "metadata": {},
   "outputs": [
    {
     "name": "stdout",
     "output_type": "stream",
     "text": [
      "a\n",
      "b\n",
      "aba\n",
      "abbba\n",
      "bb\n",
      "bbb\n",
      "bbb\n",
      "baab\n",
      "abba\n"
     ]
    }
   ],
   "source": [
    "print(question2('a'))\n",
    "print(question2('ab'))\n",
    "print(question2('aba'))\n",
    "print(question2('abbba'))\n",
    "print(question2('adbbca'))\n",
    "print(question2('abbbca'))\n",
    "print(question2('adbbba'))\n",
    "print(question2('abaab'))\n",
    "print(question2('abbab'))"
   ]
  },
  {
   "cell_type": "markdown",
   "metadata": {},
   "source": [
    "### Solution 2\n",
    "In the previous solution, we repetely calculate same substring for many times. To get a O(n^2) solution, I created a 2D array to store the longest palindromic substring so we don't need to recalculate the same thing over and over again. The recusion formula is still the same."
   ]
  },
  {
   "cell_type": "code",
   "execution_count": 328,
   "metadata": {
    "collapsed": true
   },
   "outputs": [],
   "source": [
    "def question2(a):\n",
    "    n = len(a)\n",
    "\n",
    "    # Create a n x n array, where n is the length of the input str\n",
    "    # palindrom[i][j] = longest palindrom from str[i] to str[j]\n",
    "    palindrom = [['']*n for i in range(n)]\n",
    "    \n",
    "    # Init diagonal line, where i == j\n",
    "    for i in range(n):\n",
    "        palindrom[i][i] = a[i]\n",
    "\n",
    "    # 2 layer for loops to build up the array from bottom right to top right\n",
    "    # Our target is the top right corner palindrom[0][n]\n",
    "    for i in reversed(range(n-1)):\n",
    "        for j in range(i+1,n):\n",
    "            # If the left end char is the same as right end char, and the string in between \n",
    "            # is a palindrom, the whole string is a palindrom\n",
    "            if (a[i] == a[j]) and (len(palindrom[i+1][j-1]) == j-i-1):\n",
    "                palindrom[i][j] = a[i:j+1]\n",
    "                \n",
    "            # Otherwise, find out the max len palindrome from palindrom[i][j-1] and palindrom[i+1][j] \n",
    "            else:\n",
    "                if len(palindrom[i][j-1]) > len(palindrom[i+1][j]):\n",
    "                    palindrom[i][j] = palindrom[i][j-1]\n",
    "                else:\n",
    "                    palindrom[i][j] = palindrom[i+1][j]\n",
    "\n",
    "                #lenA = len(palindrom[i][j-1])\n",
    "                #lenB = len(palindrom[i+1][j])\n",
    "                #lenC = len(palindrom[i+1][j-1])\n",
    "                #max_len = max([lenA, lenB, lenC])\n",
    "                #if max_len == lenA:\n",
    "                #    palindrom[i][j] = palindrom[i][j-1]\n",
    "                #elif max_len == lenB:\n",
    "                #    palindrom[i][j] = palindrom[i+1][j]\n",
    "                #else:\n",
    "                #    palindrom[i][j] = palindrom[i+1][j-1]\n",
    "\n",
    "    return palindrom[0][n-1]"
   ]
  },
  {
   "cell_type": "code",
   "execution_count": 329,
   "metadata": {},
   "outputs": [
    {
     "name": "stdout",
     "output_type": "stream",
     "text": [
      "a\n",
      "b\n",
      "aba\n",
      "abbba\n",
      "bb\n",
      "bbb\n",
      "bbb\n",
      "baab\n",
      "abba\n"
     ]
    }
   ],
   "source": [
    "print(question2('a'))\n",
    "print(question2('ab'))\n",
    "print(question2('aba'))\n",
    "print(question2('abbba'))\n",
    "print(question2('adbbca'))\n",
    "print(question2('abbbca'))\n",
    "print(question2('adbbba'))\n",
    "print(question2('abaab'))\n",
    "print(question2('abbab'))"
   ]
  },
  {
   "cell_type": "markdown",
   "metadata": {},
   "source": [
    "# Question 3\n",
    "\n",
    "Given an undirected graph G, find the minimum spanning tree within G. A minimum spanning tree connects all vertices in a graph with the smallest possible total weight of edges. Your function should take in and return an adjacency list structured like this:\n",
    "\n",
    "{'A': [('B', 2)],\n",
    "\n",
    "\n",
    " 'B': [('A', 2), ('C', 5)], \n",
    " \n",
    " \n",
    " 'C': [('B', 5)]}\n",
    "\n",
    "Vertices are represented as unique strings. The function definition should be question3(G)"
   ]
  },
  {
   "cell_type": "markdown",
   "metadata": {},
   "source": [
    "### Solution\n",
    "I implemented classic prim's algorithm for minimum spanning tree. The algorithm maintains a distance for each node it can reach currently, and add the minimum distance edge everytime."
   ]
  },
  {
   "cell_type": "code",
   "execution_count": 332,
   "metadata": {
    "collapsed": true
   },
   "outputs": [],
   "source": [
    "def question3(G):\n",
    "    int_max = 1000000\n",
    "    included_nodes = []\n",
    "    included_edges = []\n",
    "    result = dict()\n",
    "    \n",
    "    # Init not_included_nodes dictionary. The keys are all \"not yet included\" nodes, and the value is \n",
    "    # the current shortest distance from \"included nodes\" to this node, and from which \"included node\"\n",
    "    # gives the shortest distance.\n",
    "    not_included_nodes = dict()\n",
    "    for node in G:\n",
    "        not_included_nodes[node] = {'dist':int_max, 'from':''}\n",
    "        \n",
    "    # Add one node as starting point\n",
    "    first_node = list(G.keys())[0]\n",
    "    not_included_nodes[first_node]['dist'] = 0\n",
    "    not_included_nodes[first_node]['from'] = ''\n",
    "        \n",
    "    while len(included_nodes) != len(G):\n",
    "        # Search for shortest distance from all \"not included\" nodes\n",
    "        min_dist = int_max\n",
    "        for node in not_included_nodes:\n",
    "            if not_included_nodes[node]['dist'] < min_dist:\n",
    "                min_dist_node = node\n",
    "                min_dist = not_included_nodes[node]['dist']\n",
    "        \n",
    "        # Add the node to \"included nodes\"\n",
    "        included_nodes.append(min_dist_node)\n",
    "        \n",
    "        # Add the edges to output dictionary\n",
    "        from_node = not_included_nodes[min_dist_node]['from']\n",
    "        if from_node == '':\n",
    "            # For the very first node, don't add the edge into result\n",
    "            result[min_dist_node] = []\n",
    "        else:\n",
    "            result[min_dist_node] = [(from_node, min_dist)]\n",
    "            result[from_node].append((min_dist_node, min_dist))\n",
    "        \n",
    "        # Remove node from not_included_nodes\n",
    "        not_included_nodes.pop(min_dist_node)\n",
    "        \n",
    "        # Update distances in not_included_nodes for all the connect nodes from this newly added node\n",
    "        for node, dist in G[min_dist_node]:\n",
    "            if (node not in included_nodes) and (dist < not_included_nodes[node]['dist']):\n",
    "                not_included_nodes[node]['dist'] = dist\n",
    "                not_included_nodes[node]['from'] = min_dist_node\n",
    "\n",
    "    return result\n",
    "        "
   ]
  },
  {
   "cell_type": "code",
   "execution_count": 333,
   "metadata": {},
   "outputs": [
    {
     "name": "stdout",
     "output_type": "stream",
     "text": [
      "{'A': [('B', 2), ('E', 3)], 'B': [('A', 2), ('C', 5)], 'E': [('A', 3)], 'C': [('B', 5), ('D', 7)], 'D': [('C', 7)]}\n"
     ]
    }
   ],
   "source": [
    "Input = {'A': [('B', 2),('C',10),('E',3)], 'B': [('A', 2), ('C', 5)], 'C': [('A',10),('B', 5),('D',7)],'D':[('C',7),('E',11)],'E':[('D',11),('A',3)]}\n",
    "print(question3(Input))"
   ]
  },
  {
   "cell_type": "markdown",
   "metadata": {},
   "source": [
    "# Question 4\n",
    "\n",
    "Find the least common ancestor between two nodes on a binary search tree. The least common ancestor is the farthest node from the root that is an ancestor of both nodes. For example, the root is a common ancestor of all nodes on the tree, but if both nodes are descendents of the root's left child, then that left child might be the lowest common ancestor. You can assume that both nodes are in the tree, and the tree itself adheres to all BST properties. The function definition should look like question4(T, r, n1, n2), where T is the tree represented as a matrix, where the index of the list is equal to the integer stored in that node and a 1 represents a child node, r is a non-negative integer representing the root, and n1 and n2 are non-negative integers representing the two nodes in no particular order. For example, one test case might be\n",
    "\n",
    "question4(<br>\n",
    "[[0, 1, 0, 0, 0],<br>\n",
    "[0, 0, 0, 0, 0],<br>\n",
    "[0, 0, 0, 0, 0],<br>\n",
    "[1, 0, 0, 0, 1],<br>\n",
    "[0, 0, 0, 0, 0]],<br>\n",
    "3, 1, 4)\n",
    "          \n",
    "and the answer would be 3."
   ]
  },
  {
   "cell_type": "markdown",
   "metadata": {},
   "source": [
    "### Solution\n",
    "Given the ordering chracteristic of binary search tre, we can simply start with comparing n1, n2 with current root, and decide to go to left sub tree or right subtree. Continue the same logic until n1 is on one side of the node and n2 is on the other side of the node, or n1 or n2 is current node. "
   ]
  },
  {
   "cell_type": "code",
   "execution_count": 336,
   "metadata": {
    "collapsed": true
   },
   "outputs": [],
   "source": [
    "def question4(T, r, n1, n2):\n",
    "    while 1:\n",
    "        prev_r = r\n",
    "        # We've found the LCA if n1 == root or n2 == rot or n1 < root and n2 > root\n",
    "        if (n1 == r) or (n2 == r) or (n1 < r and n2 > r):\n",
    "            return r\n",
    "        # Both n1 and n2 are on the left side of the root, find left child and set it as new root\n",
    "        elif (n1 < r) and (n2 < r):\n",
    "            for i in range(r):\n",
    "                if T[r][i] == 1:\n",
    "                    r = i\n",
    "                    break\n",
    "        else:\n",
    "            for i in range(r+1,len(T)):\n",
    "                if T[r][i] == 1:\n",
    "                    r = i\n",
    "                    break\n",
    "\n",
    "        # We couldn't find the next root to go. The tree passed in is not valid.\n",
    "        if prev_r == r:\n",
    "            break\n",
    "\n",
    "    print(\"Error: Invalid BST\")\n",
    "    return None\n",
    "            \n",
    "                    "
   ]
  },
  {
   "cell_type": "code",
   "execution_count": 337,
   "metadata": {},
   "outputs": [
    {
     "name": "stdout",
     "output_type": "stream",
     "text": [
      "3\n",
      "3\n"
     ]
    }
   ],
   "source": [
    "print(question4(\n",
    "    [[0, 0, 0, 0, 0],\n",
    "    [1, 0, 0, 1, 0],\n",
    "    [0, 0, 0, 0, 0],\n",
    "    [0, 0, 1, 0, 0],\n",
    "    [0, 1, 0, 0, 0]],\n",
    "    4, 3, 2))\n",
    "\n",
    "print(question4([[0, 1, 0, 0, 0],\n",
    "[0, 0, 0, 0, 0],\n",
    "[0, 0, 0, 0, 0],\n",
    "[1, 0, 0, 0, 1],\n",
    "[0, 0, 0, 0, 0]],\n",
    "3,1,4))"
   ]
  },
  {
   "cell_type": "markdown",
   "metadata": {},
   "source": [
    "# Question 5\n",
    "\n",
    "Find the element in a singly linked list that's m elements from the end. For example, if a linked list has 5 elements, the 3rd element from the end is the 3rd element. The function definition should look like question5(ll, m), where ll is the first node of a linked list and m is the \"mth number from the end\". You should copy/paste the Node class below to use as a representation of a node in the linked list. Return the value of the node at that position.\n",
    "\n",
    "class Node(object):<br>\n",
    "  def __init__(self, data):<br>\n",
    "    self.data = data<br>\n",
    "    self.next = None<br>"
   ]
  },
  {
   "cell_type": "markdown",
   "metadata": {},
   "source": [
    "### Solution\n",
    "Set two pointers, one is at the begining of the linked list and another has already moved m-th positions. Then we move both pointers toward the end until the secound one reaches the end of linked list. At that point, the first pointer will be m th node from the end."
   ]
  },
  {
   "cell_type": "code",
   "execution_count": 345,
   "metadata": {
    "collapsed": true
   },
   "outputs": [],
   "source": [
    "class Node(object):\n",
    "  def __init__(self, data):\n",
    "    self.data = data\n",
    "    self.next = None\n",
    "    \n",
    "def question5(ll, m):\n",
    "    ptr_back = ll\n",
    "    ptr_front = ll\n",
    "    for i in range(m-1):\n",
    "        if ptr_front.next:\n",
    "            ptr_front = ptr_front.next\n",
    "        else:\n",
    "            print('Error: linked list too short')\n",
    "            return None\n",
    "    \n",
    "    while ptr_front.next:\n",
    "        ptr_back = ptr_back.next\n",
    "        ptr_front = ptr_front.next\n",
    "\n",
    "    return ptr_back.data\n",
    "        "
   ]
  },
  {
   "cell_type": "code",
   "execution_count": 346,
   "metadata": {},
   "outputs": [
    {
     "name": "stdout",
     "output_type": "stream",
     "text": [
      "3\n",
      "Error: linked list too short\n",
      "None\n"
     ]
    }
   ],
   "source": [
    "N1 = Node(1)\n",
    "N2 = Node(2)\n",
    "N3 = Node(3)\n",
    "N4 = Node(4)\n",
    "N5 = Node(5)\n",
    "ll = N1\n",
    "N1.next = N2\n",
    "N2.next = N3\n",
    "N3.next = N4\n",
    "N4.next = N5\n",
    "\n",
    "print(question5(ll, 3))\n",
    "print(question5(ll, 6))"
   ]
  }
 ],
 "metadata": {
  "kernelspec": {
   "display_name": "Python 3",
   "language": "python",
   "name": "python3"
  },
  "language_info": {
   "codemirror_mode": {
    "name": "ipython",
    "version": 3
   },
   "file_extension": ".py",
   "mimetype": "text/x-python",
   "name": "python",
   "nbconvert_exporter": "python",
   "pygments_lexer": "ipython3",
   "version": "3.6.1"
  }
 },
 "nbformat": 4,
 "nbformat_minor": 2
}
